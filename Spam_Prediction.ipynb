{
 "cells": [
  {
   "cell_type": "code",
   "execution_count": 1,
   "id": "fa5e6182-4484-4711-8401-44fa67a580f1",
   "metadata": {},
   "outputs": [],
   "source": [
    "import pandas as pd\n",
    "from sklearn.model_selection import train_test_split\n",
    "from sklearn.feature_extraction.text import TfidfVectorizer\n",
    "from sklearn.naive_bayes import MultinomialNB\n",
    "from sklearn.linear_model import LogisticRegression\n",
    "from sklearn.svm import SVC\n",
    "from sklearn.metrics import accuracy_score, classification_report\n",
    "\n",
    "# Load the dataset\n",
    "df = pd.read_csv('spam.csv', encoding='latin-1')\n",
    "\n",
    "# Drop unnecessary columns if there are any\n",
    "df = df[['v1', 'v2']]\n",
    "df.columns = ['label', 'message']\n",
    "\n",
    "# Encode the labels\n",
    "df['label'] = df['label'].map({'ham': 0, 'spam': 1})\n",
    "\n",
    "# Split the data into training and testing sets\n",
    "X_train, X_test, y_train, y_test = train_test_split(df['message'], df['label'], test_size=0.2, random_state=42)\n"
   ]
  },
  {
   "cell_type": "code",
   "execution_count": 2,
   "id": "85a7414f-6089-444d-bc68-6086d1f99a0e",
   "metadata": {},
   "outputs": [
    {
     "data": {
      "text/html": [
       "<div>\n",
       "<style scoped>\n",
       "    .dataframe tbody tr th:only-of-type {\n",
       "        vertical-align: middle;\n",
       "    }\n",
       "\n",
       "    .dataframe tbody tr th {\n",
       "        vertical-align: top;\n",
       "    }\n",
       "\n",
       "    .dataframe thead th {\n",
       "        text-align: right;\n",
       "    }\n",
       "</style>\n",
       "<table border=\"1\" class=\"dataframe\">\n",
       "  <thead>\n",
       "    <tr style=\"text-align: right;\">\n",
       "      <th></th>\n",
       "      <th>label</th>\n",
       "      <th>message</th>\n",
       "    </tr>\n",
       "  </thead>\n",
       "  <tbody>\n",
       "    <tr>\n",
       "      <th>0</th>\n",
       "      <td>0</td>\n",
       "      <td>Go until jurong point, crazy.. Available only ...</td>\n",
       "    </tr>\n",
       "    <tr>\n",
       "      <th>1</th>\n",
       "      <td>0</td>\n",
       "      <td>Ok lar... Joking wif u oni...</td>\n",
       "    </tr>\n",
       "    <tr>\n",
       "      <th>2</th>\n",
       "      <td>1</td>\n",
       "      <td>Free entry in 2 a wkly comp to win FA Cup fina...</td>\n",
       "    </tr>\n",
       "    <tr>\n",
       "      <th>3</th>\n",
       "      <td>0</td>\n",
       "      <td>U dun say so early hor... U c already then say...</td>\n",
       "    </tr>\n",
       "    <tr>\n",
       "      <th>4</th>\n",
       "      <td>0</td>\n",
       "      <td>Nah I don't think he goes to usf, he lives aro...</td>\n",
       "    </tr>\n",
       "  </tbody>\n",
       "</table>\n",
       "</div>"
      ],
      "text/plain": [
       "   label                                            message\n",
       "0      0  Go until jurong point, crazy.. Available only ...\n",
       "1      0                      Ok lar... Joking wif u oni...\n",
       "2      1  Free entry in 2 a wkly comp to win FA Cup fina...\n",
       "3      0  U dun say so early hor... U c already then say...\n",
       "4      0  Nah I don't think he goes to usf, he lives aro..."
      ]
     },
     "execution_count": 2,
     "metadata": {},
     "output_type": "execute_result"
    }
   ],
   "source": [
    "df.head()"
   ]
  },
  {
   "cell_type": "code",
   "execution_count": 3,
   "id": "d6a606af-cf58-42ed-92be-c950e0ab6dfa",
   "metadata": {},
   "outputs": [],
   "source": [
    "# Initialize the TF-IDF Vectorizer\n",
    "vectorizer = TfidfVectorizer()\n",
    "\n",
    "# Fit and transform the training data\n",
    "X_train_tfidf = vectorizer.fit_transform(X_train)\n",
    "\n",
    "# Transform the test data\n",
    "X_test_tfidf = vectorizer.transform(X_test)\n"
   ]
  },
  {
   "cell_type": "code",
   "execution_count": 4,
   "id": "18ecbe86-9e33-4ed6-8845-91b21f91f28e",
   "metadata": {},
   "outputs": [
    {
     "name": "stdout",
     "output_type": "stream",
     "text": [
      "  (0, 7482)\t0.2755095016014955\n",
      "  (0, 7040)\t0.37452799320205127\n",
      "  (0, 4776)\t0.31491292100771273\n",
      "  (0, 4773)\t0.1639052845916638\n",
      "  (0, 4685)\t0.357091702346315\n",
      "  (0, 3873)\t0.16066113692640557\n",
      "  (0, 3567)\t0.32728416624914575\n",
      "  (0, 3337)\t0.3206551961224227\n",
      "  (0, 3067)\t0.3206551961224227\n",
      "  (0, 2759)\t0.32728416624914575\n",
      "  (0, 1808)\t0.2908476600252535\n",
      "  (1, 7679)\t0.07245791194421201\n",
      "  (1, 6906)\t0.1391939644063715\n",
      "  (1, 6819)\t0.21252091630280584\n",
      "  (1, 6816)\t0.15314259442370007\n",
      "  (1, 6786)\t0.08597927139460872\n",
      "  (1, 5994)\t0.173529265786496\n",
      "  (1, 5922)\t0.2791775831288673\n",
      "  (1, 5917)\t0.2791775831288673\n",
      "  (1, 5916)\t0.20088795134690807\n",
      "  (1, 5709)\t0.26618036629009734\n",
      "  (1, 4919)\t0.23473980524482632\n",
      "  (1, 4918)\t0.14561479233537142\n",
      "  (1, 4912)\t0.11039868655458097\n",
      "  (1, 4869)\t0.10739626420319198\n",
      "  :\t:\n",
      "  (3, 1071)\t0.37014377711174457\n",
      "  (3, 955)\t0.11790389269484952\n",
      "  (4, 7611)\t0.17275254473565038\n",
      "  (4, 7412)\t0.21930649622271095\n",
      "  (4, 7298)\t0.23261456021985846\n",
      "  (4, 7170)\t0.13444078299099177\n",
      "  (4, 7065)\t0.15575526223535177\n",
      "  (4, 6906)\t0.07544290858204897\n",
      "  (4, 6905)\t0.26445346982688694\n",
      "  (4, 4986)\t0.16434320580223902\n",
      "  (4, 4869)\t0.11641721071584214\n",
      "  (4, 4636)\t0.22440061602606667\n",
      "  (4, 4037)\t0.25445720643391306\n",
      "  (4, 3141)\t0.22627932254447325\n",
      "  (4, 3000)\t0.14475899871248618\n",
      "  (4, 2629)\t0.22261829682688458\n",
      "  (4, 2565)\t0.22261829682688458\n",
      "  (4, 2450)\t0.20031541068837286\n",
      "  (4, 1973)\t0.23501189735575792\n",
      "  (4, 1906)\t0.2785424117716068\n",
      "  (4, 1700)\t0.25036452788216706\n",
      "  (4, 1161)\t0.20852935488216467\n",
      "  (4, 684)\t0.24339170156040474\n",
      "  (4, 530)\t0.20418023526759294\n",
      "  (4, 256)\t0.2073899870280816\n"
     ]
    }
   ],
   "source": [
    "print(X_test_tfidf[0:5])\n"
   ]
  },
  {
   "cell_type": "code",
   "execution_count": 5,
   "id": "d47d975a-afb1-4d61-ab70-db66c9b161ea",
   "metadata": {},
   "outputs": [
    {
     "name": "stdout",
     "output_type": "stream",
     "text": [
      "Naive Bayes Classifier\n",
      "Accuracy: 0.9623318385650225\n",
      "              precision    recall  f1-score   support\n",
      "\n",
      "           0       0.96      1.00      0.98       965\n",
      "           1       1.00      0.72      0.84       150\n",
      "\n",
      "    accuracy                           0.96      1115\n",
      "   macro avg       0.98      0.86      0.91      1115\n",
      "weighted avg       0.96      0.96      0.96      1115\n",
      "\n"
     ]
    }
   ],
   "source": [
    "# Initialize the Naive Bayes classifier\n",
    "nb_classifier = MultinomialNB()\n",
    "\n",
    "# Train the classifier\n",
    "nb_classifier.fit(X_train_tfidf, y_train)\n",
    "\n",
    "# Make predictions\n",
    "y_pred_nb = nb_classifier.predict(X_test_tfidf)\n",
    "\n",
    "# Evaluate the classifier\n",
    "print(\"Naive Bayes Classifier\")\n",
    "print(f\"Accuracy: {accuracy_score(y_test, y_pred_nb)}\")\n",
    "print(classification_report(y_test, y_pred_nb))\n"
   ]
  },
  {
   "cell_type": "code",
   "execution_count": 6,
   "id": "e14ce8e5-a798-4555-9cf6-a6ef8bbbd66f",
   "metadata": {},
   "outputs": [
    {
     "name": "stdout",
     "output_type": "stream",
     "text": [
      "\n",
      "Logistic Regression Classifier\n",
      "Accuracy: 0.9659192825112107\n",
      "              precision    recall  f1-score   support\n",
      "\n",
      "           0       0.96      1.00      0.98       965\n",
      "           1       0.99      0.75      0.86       150\n",
      "\n",
      "    accuracy                           0.97      1115\n",
      "   macro avg       0.98      0.88      0.92      1115\n",
      "weighted avg       0.97      0.97      0.96      1115\n",
      "\n"
     ]
    }
   ],
   "source": [
    "# Initialize the Logistic Regression classifier\n",
    "lr_classifier = LogisticRegression(max_iter=1000)\n",
    "\n",
    "# Train the classifier\n",
    "lr_classifier.fit(X_train_tfidf, y_train)\n",
    "\n",
    "# Make predictions\n",
    "y_pred_lr = lr_classifier.predict(X_test_tfidf)\n",
    "\n",
    "# Evaluate the classifier\n",
    "print(\"\\nLogistic Regression Classifier\")\n",
    "print(f\"Accuracy: {accuracy_score(y_test, y_pred_lr)}\")\n",
    "print(classification_report(y_test, y_pred_lr))\n"
   ]
  },
  {
   "cell_type": "code",
   "execution_count": 7,
   "id": "bc16b715-07bd-4a0c-99a7-76f34fc029ae",
   "metadata": {},
   "outputs": [
    {
     "name": "stdout",
     "output_type": "stream",
     "text": [
      "\n",
      "Support Vector Machine Classifier\n",
      "Accuracy: 0.9820627802690582\n",
      "              precision    recall  f1-score   support\n",
      "\n",
      "           0       0.98      1.00      0.99       965\n",
      "           1       1.00      0.87      0.93       150\n",
      "\n",
      "    accuracy                           0.98      1115\n",
      "   macro avg       0.99      0.93      0.96      1115\n",
      "weighted avg       0.98      0.98      0.98      1115\n",
      "\n"
     ]
    }
   ],
   "source": [
    "# Initialize the Support Vector Machine classifier\n",
    "svm_classifier = SVC()\n",
    "\n",
    "# Train the classifier\n",
    "svm_classifier.fit(X_train_tfidf, y_train)\n",
    "\n",
    "# Make predictions\n",
    "y_pred_svm = svm_classifier.predict(X_test_tfidf)\n",
    "\n",
    "# Evaluate the classifier\n",
    "print(\"\\nSupport Vector Machine Classifier\")\n",
    "print(f\"Accuracy: {accuracy_score(y_test, y_pred_svm)}\")\n",
    "print(classification_report(y_test, y_pred_svm))\n"
   ]
  },
  {
   "cell_type": "code",
   "execution_count": null,
   "id": "0132d016-03e9-4426-a77f-cdf176a18cb8",
   "metadata": {},
   "outputs": [
    {
     "name": "stdin",
     "output_type": "stream",
     "text": [
      "Enter an SMS message (or type 'exit' to quit):  Hi babes\n"
     ]
    },
    {
     "name": "stdout",
     "output_type": "stream",
     "text": [
      "The message is: ham\n"
     ]
    },
    {
     "name": "stdin",
     "output_type": "stream",
     "text": [
      "Enter an SMS message (or type 'exit' to quit):  Free entry in 2 a wkly comp to win FA Cup final tkts 21st May 2005. Text FA to 87121 to receive entry question(std txt rate)T&C's apply 08452810075over18's\n"
     ]
    },
    {
     "name": "stdout",
     "output_type": "stream",
     "text": [
      "The message is: spam\n"
     ]
    },
    {
     "name": "stdin",
     "output_type": "stream",
     "text": [
      "Enter an SMS message (or type 'exit' to quit):  Free entry\n"
     ]
    },
    {
     "name": "stdout",
     "output_type": "stream",
     "text": [
      "The message is: spam\n"
     ]
    },
    {
     "name": "stdin",
     "output_type": "stream",
     "text": [
      "Enter an SMS message (or type 'exit' to quit):  Happy days back\n"
     ]
    },
    {
     "name": "stdout",
     "output_type": "stream",
     "text": [
      "The message is: ham\n"
     ]
    }
   ],
   "source": [
    "# Function to predict whether a message is spam or not\n",
    "def predict_message(message):\n",
    "    message_tfidf = vectorizer.transform([message])  # Transform the input message using the trained vectorizer\n",
    "    prediction = nb_classifier.predict(message_tfidf)  # Use the trained Naive Bayes classifier to predict\n",
    "    return 'spam' if prediction[0] == 1 else 'ham'\n",
    "\n",
    "# Loop to take user input and predict\n",
    "while True:\n",
    "    user_input = input(\"Enter an SMS message (or type 'exit' to quit): \")\n",
    "    if user_input.lower() == 'exit':\n",
    "        break\n",
    "    prediction = predict_message(user_input)\n",
    "    print(f\"The message is: {prediction}\")\n"
   ]
  }
 ],
 "metadata": {
  "kernelspec": {
   "display_name": "Python 3 (ipykernel)",
   "language": "python",
   "name": "python3"
  },
  "language_info": {
   "codemirror_mode": {
    "name": "ipython",
    "version": 3
   },
   "file_extension": ".py",
   "mimetype": "text/x-python",
   "name": "python",
   "nbconvert_exporter": "python",
   "pygments_lexer": "ipython3",
   "version": "3.11.7"
  }
 },
 "nbformat": 4,
 "nbformat_minor": 5
}
